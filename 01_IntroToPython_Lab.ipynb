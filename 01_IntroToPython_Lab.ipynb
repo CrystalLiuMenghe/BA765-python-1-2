{
  "nbformat": 4,
  "nbformat_minor": 0,
  "metadata": {
    "colab": {
      "name": "01-IntroToPython_Lab.ipynb",
      "provenance": [],
      "collapsed_sections": [],
      "include_colab_link": true
    },
    "kernelspec": {
      "name": "python3",
      "display_name": "Python 3"
    }
  },
  "cells": [
    {
      "cell_type": "markdown",
      "metadata": {
        "id": "view-in-github",
        "colab_type": "text"
      },
      "source": [
        "<a href=\"https://colab.research.google.com/github/CrystalLiuMenghe/BA765-python-1-2/blob/main/01_IntroToPython_Lab.ipynb\" target=\"_parent\"><img src=\"https://colab.research.google.com/assets/colab-badge.svg\" alt=\"Open In Colab\"/></a>"
      ]
    },
    {
      "cell_type": "markdown",
      "metadata": {
        "id": "lhtWbX1WT5DB"
      },
      "source": [
        "# Intro to Python Lab\n",
        "1.   make a new private github project\n",
        "2.   Save this notebook to a that project\n",
        "3.   Answer the following python questions.\n",
        "4.   Then push the new version of this document to your github project\n",
        "5.   Share your github repository with one person from the class, ask them to share their repository with you too. \n",
        "6.   Check each other's code\n",
        "3.   At the end of the notebook of your peer, add a new Text Cell writing \"Well done!!\" and push it to their repository\n",
        "\n",
        "## WELL DONE!"
      ]
    },
    {
      "cell_type": "code",
      "metadata": {
        "id": "KtoaviMXUC5I"
      },
      "source": [
        "# STARTER CODE:\n",
        "x = \"Coding in python is so much fun! Python will be my new superpower!\"\n",
        "y = 3\n",
        "z = 3.0\n"
      ],
      "execution_count": 26,
      "outputs": []
    },
    {
      "cell_type": "code",
      "metadata": {
        "id": "qRuImhtaTqqi",
        "colab": {
          "base_uri": "https://localhost:8080/"
        },
        "outputId": "adbf980f-75f8-409a-c1ab-699b2d99007a"
      },
      "source": [
        "# Q1:  \n",
        "# What is the type of the variable x\n",
        "# How many characters are there in the variable x? (You need to discover a new string function to answer this!)\n",
        "type(x)    #string\n",
        "len(x)     #66"
      ],
      "execution_count": 28,
      "outputs": [
        {
          "output_type": "execute_result",
          "data": {
            "text/plain": [
              "66"
            ]
          },
          "metadata": {
            "tags": []
          },
          "execution_count": 28
        }
      ]
    },
    {
      "cell_type": "code",
      "metadata": {
        "id": "Xurjt-nzUPAt",
        "colab": {
          "base_uri": "https://localhost:8080/",
          "height": 35
        },
        "outputId": "effac51b-a902-4314-abb4-0b73afcca19b"
      },
      "source": [
        "# Q2:  Print out the variable x in all upper case\n",
        "\n",
        "x.upper()\n"
      ],
      "execution_count": 30,
      "outputs": [
        {
          "output_type": "execute_result",
          "data": {
            "application/vnd.google.colaboratory.intrinsic+json": {
              "type": "string"
            },
            "text/plain": [
              "'CODING IN PYTHON IS SO MUCH FUN! PYTHON WILL BE MY NEW SUPERPOWER!'"
            ]
          },
          "metadata": {
            "tags": []
          },
          "execution_count": 30
        }
      ]
    },
    {
      "cell_type": "code",
      "metadata": {
        "id": "NpiDB0M7UPFH",
        "colab": {
          "base_uri": "https://localhost:8080/"
        },
        "outputId": "fd90b690-7d1e-4cd9-86d1-62949470a9e2"
      },
      "source": [
        "# Q3:  Print the number of times the word python exists in the variable x.\n",
        "# HINT:  you may need to change the case to find the instances\n",
        "# Python is case sensitive.\n",
        "# You will also need to discover a new string function to answer this!\n",
        "\n",
        "substring = \"python\"\n",
        "x.count(substring)"
      ],
      "execution_count": 31,
      "outputs": [
        {
          "output_type": "execute_result",
          "data": {
            "text/plain": [
              "1"
            ]
          },
          "metadata": {
            "tags": []
          },
          "execution_count": 31
        }
      ]
    },
    {
      "cell_type": "code",
      "metadata": {
        "id": "2Cv69LaAUPH8",
        "colab": {
          "base_uri": "https://localhost:8080/"
        },
        "outputId": "8129cfa9-c673-4753-ca99-a1e4db2819b1"
      },
      "source": [
        "# Q4:  Are the variables y and z equal?\n",
        "type(y)\n",
        "type(z)\n",
        "#They are not equal since they are varibles with different types."
      ],
      "execution_count": 32,
      "outputs": [
        {
          "output_type": "execute_result",
          "data": {
            "text/plain": [
              "float"
            ]
          },
          "metadata": {
            "tags": []
          },
          "execution_count": 32
        }
      ]
    },
    {
      "cell_type": "markdown",
      "metadata": {
        "id": "cvxXv1RrWGZr"
      },
      "source": [
        "# Question 5\n",
        "\n",
        "Below there are two blocks of code to help you get started with the last question. We will cover installing and importing modules later on, but below is a really awesome package that lets us parse news articles!"
      ]
    },
    {
      "cell_type": "code",
      "metadata": {
        "id": "6FVOaLfJUPKC",
        "colab": {
          "base_uri": "https://localhost:8080/"
        },
        "outputId": "598eeda0-3a13-43a0-c2e9-21a7fce0ba95"
      },
      "source": [
        "# Q5 starter code 1:\n",
        "! pip install newspaper3k\n"
      ],
      "execution_count": 33,
      "outputs": [
        {
          "output_type": "stream",
          "text": [
            "Requirement already satisfied: newspaper3k in /usr/local/lib/python3.7/dist-packages (0.2.8)\n",
            "Requirement already satisfied: beautifulsoup4>=4.4.1 in /usr/local/lib/python3.7/dist-packages (from newspaper3k) (4.6.3)\n",
            "Requirement already satisfied: tinysegmenter==0.3 in /usr/local/lib/python3.7/dist-packages (from newspaper3k) (0.3)\n",
            "Requirement already satisfied: PyYAML>=3.11 in /usr/local/lib/python3.7/dist-packages (from newspaper3k) (3.13)\n",
            "Requirement already satisfied: requests>=2.10.0 in /usr/local/lib/python3.7/dist-packages (from newspaper3k) (2.23.0)\n",
            "Requirement already satisfied: tldextract>=2.0.1 in /usr/local/lib/python3.7/dist-packages (from newspaper3k) (3.1.0)\n",
            "Requirement already satisfied: feedparser>=5.2.1 in /usr/local/lib/python3.7/dist-packages (from newspaper3k) (6.0.8)\n",
            "Requirement already satisfied: lxml>=3.6.0 in /usr/local/lib/python3.7/dist-packages (from newspaper3k) (4.2.6)\n",
            "Requirement already satisfied: jieba3k>=0.35.1 in /usr/local/lib/python3.7/dist-packages (from newspaper3k) (0.35.1)\n",
            "Requirement already satisfied: python-dateutil>=2.5.3 in /usr/local/lib/python3.7/dist-packages (from newspaper3k) (2.8.1)\n",
            "Requirement already satisfied: cssselect>=0.9.2 in /usr/local/lib/python3.7/dist-packages (from newspaper3k) (1.1.0)\n",
            "Requirement already satisfied: nltk>=3.2.1 in /usr/local/lib/python3.7/dist-packages (from newspaper3k) (3.2.5)\n",
            "Requirement already satisfied: feedfinder2>=0.0.4 in /usr/local/lib/python3.7/dist-packages (from newspaper3k) (0.0.4)\n",
            "Requirement already satisfied: Pillow>=3.3.0 in /usr/local/lib/python3.7/dist-packages (from newspaper3k) (7.1.2)\n",
            "Requirement already satisfied: chardet<4,>=3.0.2 in /usr/local/lib/python3.7/dist-packages (from requests>=2.10.0->newspaper3k) (3.0.4)\n",
            "Requirement already satisfied: idna<3,>=2.5 in /usr/local/lib/python3.7/dist-packages (from requests>=2.10.0->newspaper3k) (2.10)\n",
            "Requirement already satisfied: certifi>=2017.4.17 in /usr/local/lib/python3.7/dist-packages (from requests>=2.10.0->newspaper3k) (2021.5.30)\n",
            "Requirement already satisfied: urllib3!=1.25.0,!=1.25.1,<1.26,>=1.21.1 in /usr/local/lib/python3.7/dist-packages (from requests>=2.10.0->newspaper3k) (1.24.3)\n",
            "Requirement already satisfied: filelock>=3.0.8 in /usr/local/lib/python3.7/dist-packages (from tldextract>=2.0.1->newspaper3k) (3.0.12)\n",
            "Requirement already satisfied: requests-file>=1.4 in /usr/local/lib/python3.7/dist-packages (from tldextract>=2.0.1->newspaper3k) (1.5.1)\n",
            "Requirement already satisfied: sgmllib3k in /usr/local/lib/python3.7/dist-packages (from feedparser>=5.2.1->newspaper3k) (1.0.0)\n",
            "Requirement already satisfied: six>=1.5 in /usr/local/lib/python3.7/dist-packages (from python-dateutil>=2.5.3->newspaper3k) (1.15.0)\n"
          ],
          "name": "stdout"
        }
      ]
    },
    {
      "cell_type": "code",
      "metadata": {
        "id": "LdxhL0AJUPMH"
      },
      "source": [
        "# Q5 starter code 2\n",
        "from newspaper import Article\n",
        "URL = \"https://www.boston.com/travel/travel/2020/09/18/logan-airport-contactless-food-delivery\"\n",
        "article = Article(URL)\n",
        "article.download()\n",
        "article.parse()\n",
        "article_text = article.text"
      ],
      "execution_count": 34,
      "outputs": []
    },
    {
      "cell_type": "code",
      "metadata": {
        "id": "ZCHf2QfAN3Eb"
      },
      "source": [
        ""
      ],
      "execution_count": null,
      "outputs": []
    },
    {
      "cell_type": "code",
      "metadata": {
        "id": "LGApw9lRWSrw",
        "colab": {
          "base_uri": "https://localhost:8080/"
        },
        "outputId": "72b05bb3-f535-45d1-8481-760423650cd3"
      },
      "source": [
        "# Q5A:  print the variable article_text\n",
        "print(article_text)"
      ],
      "execution_count": 35,
      "outputs": [
        {
          "output_type": "stream",
          "text": [
            "Travel Logan Airport adds PPE vending machines, expands contactless food delivery American Airlines will also reopen its club lounge next month, with safety measures in place. Food being delivered at the airport by AtYourGate. MarketPlace Logan\n",
            "\n",
            "It is becoming easier for safety-conscious travelers at Logan International Airport to buy food and personal protective equipment amid the coronavirus pandemic.\n",
            "\n",
            "The airport installed PPE vending machines in July and is increasing contactless concession options through Grab and AtYourGate. In-airport app AtYourGate operates at 10 airports nationwide, including Logan, delivering food from airport restaurants such as B. GOOD, Not Your Average Joe’s, Lucca, WPizza, and more to travelers within 30 minutes. In June, AtYourGate partnered with airport e-commerce platform Grab, which means the program will expand this fall, according to Marketplace Logan.\n",
            "\n",
            "“As part of a collaboration between Grab and AtYourGate, passengers [at Logan] can now take advantage of pick-up or delivery options at their favorite eatery and select retail locations without having to download an app,” Binni Patel, marketing and customer service manager for Marketplace Logan, wrote in an e-mail. “Passengers will also be able to order from any participating location throughout the airport instead of just those available in their terminal.”\n",
            "\n",
            "Advertisement:\n",
            "\n",
            "Safety measures implemented among Logan concessions include social distancing signage, face covering requirements, contactless payment options, QR codes for restaurant menus, self-order kiosks at select eateries, plexiglass shields at registers, and more.\n",
            "\n",
            "The PPE vending machines, which offer items such masks, sanitary wipes, hand sanitizer, latex gloves, and thermometers, are located pre-security in Hudson stores and Terminals A and B.\n",
            "\n",
            "“We have made every effort to adjust and improve the Boston Logan Concessions Program to keep employees and passengers safe and healthy,” said Paul McGinn, president of MarketPlace Development, in a statement. “In collaboration with our partners at Massport we have not only made necessary adjustments but also introduced new pilot programs and technology to elevate the options available and further facilitate social distancing for our travelers.”\n",
            "\n",
            "Advertisement:\n",
            "\n",
            "Those flying with American Airlines will also notice a change in Terminal B this fall — the airline is reopening its Admirals Club lounge in October. The lounge is one of seven nationwide reopening next month and will open at 50 percent capacity, according to the airline.\n",
            "\n",
            "The lounge will offer complimentary “customer favorites” such as avocado toast and guacamole with chips served in disposable containers by employees in gloves and masks from behind protective acrylic screens, according to the airline. Travelers will also find pre-packaged cheese cubes, hummus, hard-boiled eggs, and fruit, as well as signature menu items accessible by QR code. Health and safety measures will include mandatory face coverings, glass shields, hand sanitizer stations, and more.\n",
            "\n",
            "Advertisement:\n"
          ],
          "name": "stdout"
        }
      ]
    },
    {
      "cell_type": "code",
      "metadata": {
        "id": "fSdeQQwvWUfh",
        "colab": {
          "base_uri": "https://localhost:8080/"
        },
        "outputId": "ca742756-1e78-4d2c-d872-6ae7191db110"
      },
      "source": [
        "# Q5B: What is the data type for article_text?\n",
        "type(article_text)"
      ],
      "execution_count": 36,
      "outputs": [
        {
          "output_type": "execute_result",
          "data": {
            "text/plain": [
              "str"
            ]
          },
          "metadata": {
            "tags": []
          },
          "execution_count": 36
        }
      ]
    },
    {
      "cell_type": "code",
      "metadata": {
        "id": "ml0rqY2TWcOE",
        "colab": {
          "base_uri": "https://localhost:8080/"
        },
        "outputId": "0a420ca3-7429-4365-cb40-95331596e118"
      },
      "source": [
        "# Q5C: Save the lower case version of article text to a new variable, article_lower\n",
        "article_lower = article_text.lower()\n",
        "print(article_lower)"
      ],
      "execution_count": 39,
      "outputs": [
        {
          "output_type": "stream",
          "text": [
            "travel logan airport adds ppe vending machines, expands contactless food delivery american airlines will also reopen its club lounge next month, with safety measures in place. food being delivered at the airport by atyourgate. marketplace logan\n",
            "\n",
            "it is becoming easier for safety-conscious travelers at logan international airport to buy food and personal protective equipment amid the coronavirus pandemic.\n",
            "\n",
            "the airport installed ppe vending machines in july and is increasing contactless concession options through grab and atyourgate. in-airport app atyourgate operates at 10 airports nationwide, including logan, delivering food from airport restaurants such as b. good, not your average joe’s, lucca, wpizza, and more to travelers within 30 minutes. in june, atyourgate partnered with airport e-commerce platform grab, which means the program will expand this fall, according to marketplace logan.\n",
            "\n",
            "“as part of a collaboration between grab and atyourgate, passengers [at logan] can now take advantage of pick-up or delivery options at their favorite eatery and select retail locations without having to download an app,” binni patel, marketing and customer service manager for marketplace logan, wrote in an e-mail. “passengers will also be able to order from any participating location throughout the airport instead of just those available in their terminal.”\n",
            "\n",
            "advertisement:\n",
            "\n",
            "safety measures implemented among logan concessions include social distancing signage, face covering requirements, contactless payment options, qr codes for restaurant menus, self-order kiosks at select eateries, plexiglass shields at registers, and more.\n",
            "\n",
            "the ppe vending machines, which offer items such masks, sanitary wipes, hand sanitizer, latex gloves, and thermometers, are located pre-security in hudson stores and terminals a and b.\n",
            "\n",
            "“we have made every effort to adjust and improve the boston logan concessions program to keep employees and passengers safe and healthy,” said paul mcginn, president of marketplace development, in a statement. “in collaboration with our partners at massport we have not only made necessary adjustments but also introduced new pilot programs and technology to elevate the options available and further facilitate social distancing for our travelers.”\n",
            "\n",
            "advertisement:\n",
            "\n",
            "those flying with american airlines will also notice a change in terminal b this fall — the airline is reopening its admirals club lounge in october. the lounge is one of seven nationwide reopening next month and will open at 50 percent capacity, according to the airline.\n",
            "\n",
            "the lounge will offer complimentary “customer favorites” such as avocado toast and guacamole with chips served in disposable containers by employees in gloves and masks from behind protective acrylic screens, according to the airline. travelers will also find pre-packaged cheese cubes, hummus, hard-boiled eggs, and fruit, as well as signature menu items accessible by qr code. health and safety measures will include mandatory face coverings, glass shields, hand sanitizer stations, and more.\n",
            "\n",
            "advertisement:\n"
          ],
          "name": "stdout"
        }
      ]
    },
    {
      "cell_type": "code",
      "metadata": {
        "id": "_9EBZHT6W9i7",
        "colab": {
          "base_uri": "https://localhost:8080/"
        },
        "outputId": "badd2d6d-d8d4-4e04-b331-c2ea8fcce467"
      },
      "source": [
        "# Q5D: How many times does the word Logan appear in the variable article_lower?\n",
        "substr = \"Logan\"\n",
        "article_lower.count(substr)"
      ],
      "execution_count": 40,
      "outputs": [
        {
          "output_type": "execute_result",
          "data": {
            "text/plain": [
              "0"
            ]
          },
          "metadata": {
            "tags": []
          },
          "execution_count": 40
        }
      ]
    },
    {
      "cell_type": "code",
      "metadata": {
        "id": "izFynTlRXD7c"
      },
      "source": [
        ""
      ],
      "execution_count": null,
      "outputs": []
    }
  ]
}